{
  "nbformat": 4,
  "nbformat_minor": 0,
  "metadata": {
    "colab": {
      "name": "SpotifyHistorytoCSV.ipynb",
      "provenance": [],
      "collapsed_sections": []
    },
    "kernelspec": {
      "name": "python3",
      "display_name": "Python 3"
    },
    "language_info": {
      "name": "python"
    }
  },
  "cells": [
    {
      "cell_type": "code",
      "source": [
        "import pandas as pd\n",
        "import json, datetime, os, glob, csv\n",
        "\n",
        "#--------Variables to Change-------------\n",
        "#Mininum number of seconds the song was played to be counted\n",
        "minPlayTime = 30\n",
        "#Folder where the spotify json files are located\n",
        "pathToJson = '/content/json'\n",
        "#----------------------------------------\n",
        "\n",
        "\n",
        "#Name and details of the output csv file\n",
        "outputFile = open('output.csv', mode = 'w' , newline='')\n",
        "\n",
        "#Arrays to temporarily hold files and track lists\n",
        "importedJSONArray = []\n",
        "processedTracks = []\n",
        "\n",
        "#Create pattern and file list from pattern\n",
        "jsonPattern = os.path.join(pathToJson,'*.json')\n",
        "fileList = glob.glob(jsonPattern)\n",
        "\n",
        "#Loop through each file in the file list, open it, and append the data to the \n",
        "for file in fileList:\n",
        "  with open(file) as f:\n",
        "    json_data = pd.json_normalize(json.loads(f.read()))\n",
        "    importedJSONArray.append(json_data)\n",
        "\n",
        "#Combine the json files into a Pandas Data Frame\n",
        "jsonCombinedDf = pd.concat(importedJSONArray, ignore_index=True)\n",
        "\n",
        "#Get the number total number of tracks in the dataframe by getting its length and subtracting 1 (index starts at 0)\n",
        "#You could change this if you only want to process 100 tracks or something\n",
        "numTracks = (len(jsonCombinedDf)-1)\n",
        "\n",
        "#Loop to extract relevant data from the jsonCombinedDf\n",
        "for x in range(numTracks):\n",
        "  #Only select tracks that were played the minimum amount of time. \n",
        "  #Spotify records that time in ms, so we multiply the minimum number of seconds by 1000\n",
        "  if jsonCombinedDf.ms_played[x] >= (minPlayTime*1000):\n",
        "    #Get the artist, album, track, and date/time played\n",
        "    trackArtist = jsonCombinedDf.master_metadata_album_artist_name[x]\n",
        "    trackAlbum = jsonCombinedDf.master_metadata_album_album_name[x]\n",
        "    trackName = jsonCombinedDf.master_metadata_track_name[x]\n",
        "    dateTimePlayed = jsonCombinedDf.ts[x]\n",
        "\n",
        "    #Extract the relevant parts from the dateTimePlayedString using substrings\n",
        "    day = dateTimePlayed[8:10]\n",
        "    monthNum = dateTimePlayed[5:7]\n",
        "    year = dateTimePlayed[0:4]\n",
        "    time = dateTimePlayed[11:16]\n",
        "\n",
        "    #Convert the month number into the short abbreviation of the month name\n",
        "    monthConverter = datetime.datetime.strptime(monthNum, \"%m\")\n",
        "    monthName = monthConverter.strftime(\"%b\")\n",
        "    #Construct a date/time string in our desired format\n",
        "    convertedDateTimeString = day + ' ' + monthName + ' ' + year + ' ' + time\n",
        "\n",
        "    #Construct a finished row by combining the artist, album, track name, and converted date time string\n",
        "    finishedRow = (str(trackArtist)+','+str(trackAlbum)+','+str(trackName)+','+str(convertedDateTimeString))\n",
        "    #Add the finished row to the processedTracks array that is temporarily holding our list of tracks\n",
        "    processedTracks.append(finishedRow)\n",
        "\n",
        "#Create a Pandas Data Frame from the processedTracks array\n",
        "completeDF = pd.DataFrame(processedTracks)\n",
        "\n",
        "#Create our final CSV file from the data frame we just created\n",
        "completeDF.to_csv('output.csv', header = False, index = False, sep=\"\\t\", quoting=csv.QUOTE_NONE, quotechar=\"\", escapechar=\"\")"
      ],
      "metadata": {
        "colab": {
          "base_uri": "https://localhost:8080/"
        },
        "id": "03N-zSsrz3Y1",
        "outputId": "cf3e3789-f845-43d1-8271-584aa077c438"
      },
      "execution_count": 5,
      "outputs": [
        {
          "output_type": "stream",
          "name": "stdout",
          "text": [
            "57403\n"
          ]
        }
      ]
    }
  ]
}